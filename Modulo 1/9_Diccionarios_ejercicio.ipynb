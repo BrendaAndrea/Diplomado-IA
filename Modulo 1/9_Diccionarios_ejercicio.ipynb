{
 "cells": [
  {
   "cell_type": "markdown",
   "metadata": {},
   "source": [
    "# Diccionarios: Almacenamiento de Datos en Pares Clave-Valor"
   ]
  },
  {
   "cell_type": "markdown",
   "metadata": {},
   "source": [
    "Un diccionario es un objeto que contiene palabras, y cada palabra tiene asociado un significado. Haciendo paralelismo, diríamos que en python un diccionario es también un objeot indexado por clave (las palabras) que tienen asociados unos valores (los significados)"
   ]
  },
  {
   "cell_type": "markdown",
   "metadata": {},
   "source": [
    "Los diccionarios en Python tienen las siguientes características:\n",
    "\n",
    "- Mantienen el orden en el que se insertan las claves.\n",
    "\n",
    "- Son mutables, con lo que admiten añadir, borrar y modificar sus elementos.\n",
    "\n",
    "- Las claves deben ser únicas. A menudo se utilizan las cadenas de texto como claves, pero en realidad podría ser cualquier tipo de datos inmutable: enteros, flotantes, tuplas (entre otros).\n",
    "\n",
    "- Tienen un acceso muy rápido a sus elementos, debido a la forma en la que están implementados internamente.\n"
   ]
  },
  {
   "cell_type": "code",
   "execution_count": 101,
   "metadata": {},
   "outputs": [],
   "source": [
    "diccionario_vacio = {}"
   ]
  },
  {
   "cell_type": "markdown",
   "metadata": {},
   "source": [
    "### Diccionario con Pares Clave-Valor"
   ]
  },
  {
   "cell_type": "code",
   "execution_count": 102,
   "metadata": {},
   "outputs": [
    {
     "name": "stdout",
     "output_type": "stream",
     "text": [
      "{'nombre': 'Juan', 'edad': 30, 'ciudad': 'Paris'}\n"
     ]
    }
   ],
   "source": [
    "diccionario = {\n",
    "    \"nombre\": \"Juan\",\n",
    "    \"edad\": 30,\n",
    "    \"ciudad\": \"Paris\"\n",
    "}\n",
    "print(diccionario)"
   ]
  },
  {
   "cell_type": "code",
   "execution_count": 103,
   "metadata": {},
   "outputs": [
    {
     "name": "stdout",
     "output_type": "stream",
     "text": [
      "{2015: 2135000, 2016: 2154000, 2017: 2177000, 2018: 2203000, 2019: 2560000}\n"
     ]
    }
   ],
   "source": [
    "poblacion = {\n",
    "    2015: 2_135_000,\n",
    "    2016: 2_154_000,\n",
    "    2017: 2_177_000,\n",
    "    2018: 2_203_000,\n",
    "    2019: 2_560_000\n",
    "}\n",
    "print(poblacion)\n"
   ]
  },
  {
   "cell_type": "code",
   "execution_count": 104,
   "metadata": {},
   "outputs": [
    {
     "name": "stdout",
     "output_type": "stream",
     "text": [
      "{'nombre': 'Juan', 'edad': 30, 'ciudad': 'Paris', 'hijos': ['Juan', 'Pedro', 'Pablo'], 'edadesHijos': {'Juan': 15, 'Pedro': 20, 'pablo': 18}}\n"
     ]
    }
   ],
   "source": [
    "diccionario = {\n",
    "    \"nombre\": \"Juan\",\n",
    "    \"edad\": 30,\n",
    "    \"ciudad\": \"Paris\",\n",
    "    \"hijos\" : [\"Juan\", \"Pedro\", \"Pablo\"],\n",
    "    \"edadesHijos\": {\"Juan\": 15, \"Pedro\":20, \"pablo\":18}\n",
    "}\n",
    "print(diccionario)"
   ]
  },
  {
   "cell_type": "markdown",
   "metadata": {},
   "source": [
    "Para acceder a los valores de un diccionario utilizando sus claves."
   ]
  },
  {
   "cell_type": "code",
   "execution_count": 105,
   "metadata": {},
   "outputs": [
    {
     "name": "stdout",
     "output_type": "stream",
     "text": [
      "Nombre: Juan, Edad: 30, Ciudad: Paris\n"
     ]
    }
   ],
   "source": [
    "nombre = diccionario[\"nombre\"]\n",
    "edad = diccionario[\"edad\"]\n",
    "ciudad = diccionario[\"ciudad\"]\n",
    "print(f\"Nombre: {nombre}, Edad: {edad}, Ciudad: {ciudad}\")"
   ]
  },
  {
   "cell_type": "code",
   "execution_count": 106,
   "metadata": {},
   "outputs": [],
   "source": [
    "edad = diccionario.get(\"nombreEsposa\")\n",
    "edad"
   ]
  },
  {
   "cell_type": "code",
   "execution_count": 107,
   "metadata": {},
   "outputs": [
    {
     "name": "stdout",
     "output_type": "stream",
     "text": [
      "{'nombre': 'Juan', 'edad': 31, 'ciudad': 'Paris', 'hijos': ['Juan', 'Pedro', 'Pablo'], 'edadesHijos': {'Juan': 15, 'Pedro': 20, 'pablo': 18}, 'profesion': 'Ingeniero'}\n"
     ]
    }
   ],
   "source": [
    "diccionario[\"edad\"] = 31  # Modificar el valor de la clave 'edad'\n",
    "diccionario[\"profesion\"] = \"Ingeniero\"  # Añadir una nueva clave-valor\n",
    "print(diccionario)"
   ]
  },
  {
   "cell_type": "markdown",
   "metadata": {},
   "source": [
    "## Adición y modificación de elementos"
   ]
  },
  {
   "cell_type": "code",
   "execution_count": 108,
   "metadata": {},
   "outputs": [],
   "source": [
    "# Agregar un nuevo par clave-valor\n",
    "\n",
    "diccionario[\"profesion\"] = \"Licenciado\"\n",
    "\n",
    "# Modificar un valor existente\n"
   ]
  },
  {
   "cell_type": "code",
   "execution_count": 109,
   "metadata": {},
   "outputs": [
    {
     "name": "stdout",
     "output_type": "stream",
     "text": [
      "{'nombre': 'Juan', 'edad': 31, 'ciudad': 'Paris', 'hijos': ['Juan', 'Pedro', 'Pablo'], 'edadesHijos': {'Juan': 15, 'Pedro': 20, 'pablo': 18}, 'profesion': 'Licenciado'}\n"
     ]
    }
   ],
   "source": [
    "print(diccionario)"
   ]
  },
  {
   "cell_type": "markdown",
   "metadata": {},
   "source": [
    "## Eliminación de Elementos\n",
    "\n",
    "- `del diccionario[clave]` : Elimina el par clave-valor especificado.\n",
    "- `diccionario.pop(clave)` : Elimina el par clave-valor y devuelve el valor.\n"
   ]
  },
  {
   "cell_type": "code",
   "execution_count": 110,
   "metadata": {},
   "outputs": [
    {
     "name": "stdout",
     "output_type": "stream",
     "text": [
      "{'nombre': 'Juan', 'edad': 31, 'hijos': ['Juan', 'Pedro', 'Pablo'], 'edadesHijos': {'Juan': 15, 'Pedro': 20, 'pablo': 18}, 'profesion': 'Licenciado'}\n"
     ]
    }
   ],
   "source": [
    "# Eliminar un par clave-valor\n",
    "del diccionario [\"ciudad\"]\n",
    "print(diccionario)\n"
   ]
  },
  {
   "cell_type": "markdown",
   "metadata": {},
   "source": [
    "## Métodos de Diccionarios\n",
    "\n",
    "- `keys()` : Devuelve una vista de las claves del diccionario.\n",
    "- `values()` : Devuelve una vista de los valores del diccionario.\n",
    "- `items()` : Devuelve una vista de los pares clave-valor del diccionario.\n"
   ]
  },
  {
   "cell_type": "code",
   "execution_count": 111,
   "metadata": {},
   "outputs": [
    {
     "name": "stdout",
     "output_type": "stream",
     "text": [
      "dict_keys(['nombre', 'edad', 'ciudad'])\n",
      "dict_values(['Juan', 30, 'Madrid'])\n",
      "dict_items([('nombre', 'Juan'), ('edad', 30), ('ciudad', 'Madrid')])\n"
     ]
    }
   ],
   "source": [
    "# Crear un diccionario con pares clave-valor\n",
    "diccionario = {\n",
    "    \"nombre\": \"Juan\",\n",
    "    \"edad\": 30,\n",
    "    \"ciudad\": \"Madrid\"\n",
    "}\n",
    "\n",
    "# Obtener todas las claves\n",
    "claves = diccionario.keys()\n",
    "print(claves)  # Salida: dict_keys(['nombre', 'edad', 'ciudad'])\n",
    "\n",
    "# Obtener todos los valores\n",
    "valores = diccionario.values()\n",
    "print(valores)  # Salida: dict_values(['Juan', 30, 'Madrid'])\n",
    "\n",
    "# Obtener todos los pares clave-valor\n",
    "items = diccionario.items()\n",
    "print(items)  # Salida: dict_items([('nombre', 'Juan'), ('edad', 30), ('ciudad', 'Madrid')])\n"
   ]
  },
  {
   "cell_type": "markdown",
   "metadata": {},
   "source": [
    "## Borrar elementos"
   ]
  },
  {
   "cell_type": "code",
   "execution_count": 112,
   "metadata": {},
   "outputs": [],
   "source": [
    "rae = {\n",
    "    'bifronte': 'De dos frentes o dos caras',\n",
    "    'anarcoide': 'Que tiende al desorden',\n",
    "    'montuvio': 'Campesino de la costa'\n",
    "}"
   ]
  },
  {
   "cell_type": "code",
   "execution_count": 113,
   "metadata": {},
   "outputs": [
    {
     "name": "stdout",
     "output_type": "stream",
     "text": [
      "{'anarcoide': 'Que tiende al desorden', 'montuvio': 'Campesino de la costa'}\n",
      "{'montuvio': 'Campesino de la costa'}\n",
      "Que tiende al desorden\n"
     ]
    }
   ],
   "source": [
    "# Borrar un elemento usando 'del'\n",
    "del rae['bifronte']\n",
    "print(rae)  # Salida: {'anarcoide': 'Que tiende al desorden', 'montuvio': 'Campesino de la costa'}\n",
    "\n",
    "# Borrar un elemento usando 'pop'\n",
    "definicion = rae.pop('anarcoide')\n",
    "print(rae)  # Salida: {'montuvio': 'Campesino de la costa'}\n",
    "print(definicion)  # Salida: Que tiende al desorden"
   ]
  },
  {
   "cell_type": "markdown",
   "metadata": {},
   "source": [
    "## Combinar diccionarios"
   ]
  },
  {
   "cell_type": "markdown",
   "metadata": {},
   "source": [
    "Dados dos (o más) diccionarios, es posible «mezclarlos» para obtener una combinación de los mismos. Esta combinación se basa en dos premisas:\n",
    "\n",
    "- Si la clave no existe, se añade con su valor.\n",
    "\n",
    "- Si la clave ya existe, se añade con el valor del «último» diccionario en la mezcla. "
   ]
  },
  {
   "cell_type": "code",
   "execution_count": 114,
   "metadata": {},
   "outputs": [],
   "source": [
    "rae1 = {\n",
    "    'bifronte': 'De dos frentes o dos caras',\n",
    "    'enjuiciar': 'Someter una cuestión a examen, discusión y juicio'\n",
    "}\n",
    "rae2 = {\n",
    "    'anarcoide': 'Que tiende al desorden',\n",
    "    'montuvio': 'Campesino de la costa',\n",
    "    'enjuiciar': 'Instruir, juzgar o sentenciar una causa'\n",
    "}"
   ]
  },
  {
   "cell_type": "code",
   "execution_count": 115,
   "metadata": {},
   "outputs": [
    {
     "data": {
      "text/plain": [
       "{'bifronte': 'De dos frentes o dos caras',\n",
       " 'enjuiciar': 'Instruir, juzgar o sentenciar una causa',\n",
       " 'anarcoide': 'Que tiende al desorden',\n",
       " 'montuvio': 'Campesino de la costa'}"
      ]
     },
     "execution_count": 115,
     "metadata": {},
     "output_type": "execute_result"
    }
   ],
   "source": [
    "rae1 | rae2"
   ]
  },
  {
   "cell_type": "markdown",
   "metadata": {},
   "source": [
    "## Copias"
   ]
  },
  {
   "cell_type": "markdown",
   "metadata": {},
   "source": [
    "Al igual que ocurría con las listas, si hacemos un cambio en un diccionario, se verá reflejado en todas las variables que hagan referencia al mismo. Esto se deriva de su propiedad de ser mutable."
   ]
  },
  {
   "cell_type": "code",
   "execution_count": 116,
   "metadata": {},
   "outputs": [],
   "source": [
    "original_rae = {\n",
    "    'bifronte': 'De dos frentes o dos caras',\n",
    "    'anarcoide': 'Que tiende al desorden',\n",
    "    'montuvio': 'Campesino de la costa'\n",
    "}\n",
    "copy_rae = original_rae.copy()\n",
    "\n",
    "copy_rae['bifronte'] = 'bla bla bla'"
   ]
  },
  {
   "cell_type": "code",
   "execution_count": 117,
   "metadata": {},
   "outputs": [
    {
     "data": {
      "text/plain": [
       "{'bifronte': 'De dos frentes o dos caras',\n",
       " 'anarcoide': 'Que tiende al desorden',\n",
       " 'montuvio': 'Campesino de la costa'}"
      ]
     },
     "execution_count": 117,
     "metadata": {},
     "output_type": "execute_result"
    }
   ],
   "source": [
    "original_rae"
   ]
  },
  {
   "cell_type": "markdown",
   "metadata": {},
   "source": [
    "# Ejercicios"
   ]
  },
  {
   "cell_type": "markdown",
   "metadata": {},
   "source": [
    "1. Crea un diccionario con información sobre un libro (título, autor, año de publicación).\n",
    "2. Agrega una nueva clave-valor para el género del libro.\n",
    "3. Modifica el año de publicación del libro.\n",
    "4. Elimina la clave del género."
   ]
  },
  {
   "cell_type": "code",
   "execution_count": 118,
   "metadata": {},
   "outputs": [
    {
     "name": "stdout",
     "output_type": "stream",
     "text": [
      "{'titulo': 'El principito', 'autor': 'Antoine de Saint-Exupéry', 'año_publicacion': 1943}\n"
     ]
    }
   ],
   "source": [
    "# Crear un diccionario con información sobre un libro\n",
    "libro = {\n",
    "    \"titulo\": \"El principito\",\n",
    "    \"autor\": \"Antoine de Saint-Exupéry\",\n",
    "    \"año_publicacion\": 1943\n",
    "}\n",
    "print(libro)"
   ]
  },
  {
   "cell_type": "code",
   "execution_count": 119,
   "metadata": {},
   "outputs": [
    {
     "name": "stdout",
     "output_type": "stream",
     "text": [
      "{'titulo': 'El principito', 'autor': 'Antoine de Saint-Exupéry', 'año_publicacion': 1943, 'genero': 'Literatura infantil, Fábula, Novela corta, Ficción histórica, Ficción especulativa'}\n"
     ]
    }
   ],
   "source": [
    "# Agregar una nueva clave-valor para el género del libro\n",
    "libro[\"genero\"] = \"Literatura infantil, Fábula, Novela corta, Ficción histórica, Ficción especulativa\"\n",
    "print(libro)"
   ]
  },
  {
   "cell_type": "code",
   "execution_count": 120,
   "metadata": {},
   "outputs": [
    {
     "name": "stdout",
     "output_type": "stream",
     "text": [
      "{'titulo': 'El principito', 'autor': 'Antoine de Saint-Exupéry', 'año_publicacion': 1943, 'genero': 'Literatura infantil, Fábula, Novela corta, Ficción histórica, Ficción especulativa'}\n"
     ]
    }
   ],
   "source": [
    "libro[\"año_publicacion\"] = 1943\n",
    "print(libro)"
   ]
  },
  {
   "cell_type": "code",
   "execution_count": 121,
   "metadata": {},
   "outputs": [
    {
     "name": "stdout",
     "output_type": "stream",
     "text": [
      "{'titulo': 'El principito', 'autor': 'Antoine de Saint-Exupéry', 'año_publicacion': 1943}\n"
     ]
    }
   ],
   "source": [
    "# Eliminar la clave del género\n",
    "del libro[\"genero\"]\n",
    "print(libro)"
   ]
  },
  {
   "cell_type": "markdown",
   "metadata": {},
   "source": []
  }
 ],
 "metadata": {
  "kernelspec": {
   "display_name": "Diplomado",
   "language": "python",
   "name": "python3"
  },
  "language_info": {
   "codemirror_mode": {
    "name": "ipython",
    "version": 3
   },
   "file_extension": ".py",
   "mimetype": "text/x-python",
   "name": "python",
   "nbconvert_exporter": "python",
   "pygments_lexer": "ipython3",
   "version": "3.10.14"
  }
 },
 "nbformat": 4,
 "nbformat_minor": 2
}
