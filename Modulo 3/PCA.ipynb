{
 "cells": [
  {
   "cell_type": "markdown",
   "metadata": {},
   "source": [
    "# INTRODUCCIÓN A PCA"
   ]
  },
  {
   "cell_type": "markdown",
   "metadata": {},
   "source": [
    "El Análisis de Componentes Principales (PCA, por sus siglas en inglés) es una técnica estadística de reducción de dimensionalidad que permite simplificar conjuntos de datos complejos con múltiples variables, manteniendo la mayor parte de la información original. Esto se logra transformando las variables originales en un conjunto de nuevas variables llamadas componentes principales, que son combinaciones lineales de las primeras.\n",
    "\n"
   ]
  },
  {
   "cell_type": "markdown",
   "metadata": {},
   "source": [
    "Términos Clave\n",
    "- *Componente Principal (CP)*: Es una combinación lineal de las variables originales que captura la mayor variabilidad posible de los datos.\n",
    "\n",
    "- *Cargas*: Son los pesos que transforman las variables originales en componentes principales.\n",
    "\n",
    "- *Screeplot*: Es un gráfico que muestra las varianzas de los componentes principales, lo que permite identificar cuántos de estos componentes son necesarios para explicar la mayor parte de la variabilidad de los datos.\n",
    "\n",
    "Funcionamiento del PCA\n",
    "\n",
    "El PCA transforma un conjunto de datos con múltiples variables en un nuevo conjunto de variables (componentes principales), ordenadas según la cantidad de varianza que explican. Este proceso se realiza a través de los siguientes pasos:\n",
    "\n",
    "- Normalización: Ajustar las variables para que tengan una media de cero y una desviación estándar de uno. Esto asegura que todas las variables contribuyan equitativamente al análisis.\n",
    "\n",
    "- Cálculo de la Matriz de Covarianza: Identificar cómo varían las variables juntas.\n",
    "\n",
    "- Valores y Vectores Propios: Calcular los valores propios y los vectores propios de la matriz de covarianza. Los valores propios indican la cantidad de varianza que cada componente principal explica.\n",
    "\n",
    "- Selección de Componentes Principales: Elegir los componentes que explican la mayor parte de la variabilidad total.\n",
    "Transformación de Datos: Proyectar los datos originales sobre los componentes seleccionados, reduciendo así la dimensionalidad del conjunto de datos.\n"
   ]
  },
  {
   "cell_type": "code",
   "execution_count": 2,
   "metadata": {},
   "outputs": [],
   "source": [
    "import pandas as pd\n",
    "import matplotlib.pyplot as plt"
   ]
  },
  {
   "cell_type": "code",
   "execution_count": 3,
   "metadata": {},
   "outputs": [],
   "source": [
    "datos = {\"ingreso\" : [9136.81, 11709.94, 12416.79, 4875.73, 10065.03,\n",
    "                      11755.33, 7401.78, 10291.38, 12002.42, 11787.76,\n",
    "                      13347.65, 7676.76, 9808.56, 11556.47, 7875.49,\n",
    "                      12486.19, 9242.40, 6867.09, 12946.25, 9167.36],\n",
    "\n",
    "         \"horas_trabajadas\" : [40.38, 41.55, 41.91, 40.18, 41.69,\n",
    "                               42.32, 41.57, 41.26, 42.01, 41.46,\n",
    "                               41.71, 41.36, 40.82, 41.22, 41.11,\n",
    "                               41.07, 41.20, 40.61, 41.52, 41.26]}\n",
    "df=pd.DataFrame(datos)"
   ]
  },
  {
   "cell_type": "code",
   "execution_count": 4,
   "metadata": {},
   "outputs": [
    {
     "data": {
      "text/plain": [
       "Text(0, 0.5, 'Horas trabajadas')"
      ]
     },
     "execution_count": 4,
     "metadata": {},
     "output_type": "execute_result"
    },
    {
     "data": {
      "image/png": "[encoded data removed]",
      "text/plain": [
       "<Figure size 640x480 with 1 Axes>"
      ]
     },
     "metadata": {},
     "output_type": "display_data"
    }
   ],
   "source": [
    "plt.scatter(df['ingreso'], df['horas_trabajadas'], color='deeppink')\n",
    "plt.title('INGRESO VS HORAS DE TRABAJADAS', color='navy')\n",
    "plt.xlabel('Ingreso')\n",
    "plt.ylabel('Horas trabajadas')"
   ]
  },
  {
   "cell_type": "code",
   "execution_count": 5,
   "metadata": {},
   "outputs": [],
   "source": [
    "from sklearn.preprocessing import StandardScaler\n",
    "df = pd.DataFrame(StandardScaler().fit_transform(df), columns=['ingreso', 'horas_trabajadas' ])"
   ]
  },
  {
   "cell_type": "code",
   "execution_count": 6,
   "metadata": {},
   "outputs": [
    {
     "data": {
      "text/html": [
       "<div>\n",
       "<style scoped>\n",
       "    .dataframe tbody tr th:only-of-type {\n",
       "        vertical-align: middle;\n",
       "    }\n",
       "\n",
       "    .dataframe tbody tr th {\n",
       "        vertical-align: top;\n",
       "    }\n",
       "\n",
       "    .dataframe thead th {\n",
       "        text-align: right;\n",
       "    }\n",
       "</style>\n",
       "<table border=\"1\" class=\"dataframe\">\n",
       "  <thead>\n",
       "    <tr style=\"text-align: right;\">\n",
       "      <th></th>\n",
       "      <th>ingreso</th>\n",
       "      <th>horas_trabajadas</th>\n",
       "    </tr>\n",
       "  </thead>\n",
       "  <tbody>\n",
       "    <tr>\n",
       "      <th>ingreso</th>\n",
       "      <td>1.052632</td>\n",
       "      <td>0.682360</td>\n",
       "    </tr>\n",
       "    <tr>\n",
       "      <th>horas_trabajadas</th>\n",
       "      <td>0.682360</td>\n",
       "      <td>1.052632</td>\n",
       "    </tr>\n",
       "  </tbody>\n",
       "</table>\n",
       "</div>"
      ],
      "text/plain": [
       "                   ingreso  horas_trabajadas\n",
       "ingreso           1.052632          0.682360\n",
       "horas_trabajadas  0.682360          1.052632"
      ]
     },
     "execution_count": 6,
     "metadata": {},
     "output_type": "execute_result"
    }
   ],
   "source": [
    "# CALCULAR LA MATRIZ DE COVARIANZA DE LOS DATOS\n",
    "df.cov()"
   ]
  },
  {
   "cell_type": "code",
   "execution_count": 7,
   "metadata": {},
   "outputs": [],
   "source": [
    "from numpy.linalg import eig"
   ]
  },
  {
   "cell_type": "code",
   "execution_count": 8,
   "metadata": {},
   "outputs": [],
   "source": [
    "valores, vectores= eig(df.cov())"
   ]
  },
  {
   "cell_type": "code",
   "execution_count": 9,
   "metadata": {},
   "outputs": [
    {
     "data": {
      "text/plain": [
       "array([0.37027172, 1.73499143])"
      ]
     },
     "execution_count": 9,
     "metadata": {},
     "output_type": "execute_result"
    }
   ],
   "source": [
    "valores"
   ]
  },
  {
   "cell_type": "code",
   "execution_count": 10,
   "metadata": {},
   "outputs": [
    {
     "data": {
      "text/plain": [
       "array([[-0.70710678, -0.70710678],\n",
       "       [ 0.70710678, -0.70710678]])"
      ]
     },
     "execution_count": 10,
     "metadata": {},
     "output_type": "execute_result"
    }
   ],
   "source": [
    "vectores"
   ]
  },
  {
   "cell_type": "code",
   "execution_count": 11,
   "metadata": {},
   "outputs": [],
   "source": [
    "cp1=vectores[:,0]\n",
    "cp2=vectores[:,1]"
   ]
  },
  {
   "cell_type": "code",
   "execution_count": 44,
   "metadata": {},
   "outputs": [
    {
     "data": {
      "text/plain": [
       "<matplotlib.collections.PathCollection at 0x1475ec910>"
      ]
     },
     "execution_count": 44,
     "metadata": {},
     "output_type": "execute_result"
    },
    {
     "data": {
      "image/png": "[encoded data removed]",
      "text/plain": [
       "<Figure size 640x480 with 1 Axes>"
      ]
     },
     "metadata": {},
     "output_type": "display_data"
    }
   ],
   "source": [
    "plt.scatter(df['ingreso'],df['horas_trabajadas'],color='orange')\n"
   ]
  },
  {
   "cell_type": "code",
   "execution_count": 47,
   "metadata": {},
   "outputs": [
    {
     "data": {
      "image/png": "[encoded data removed]",
      "text/plain": [
       "<Figure size 640x480 with 1 Axes>"
      ]
     },
     "metadata": {},
     "output_type": "display_data"
    }
   ],
   "source": [
    "plt.scatter (df['ingreso'],df[ 'horas_trabajadas'],color='orange')\n",
    "plt.quiver(0,0, cp1[0]/abs(cp1[0] )*valores [0], cp1[1]/abs(cp1[1])*valores [0],color='deeppink') \n",
    "plt.quiver(0,0, cp2[0]/abs(cp2[0])*valores [1], cp2[1]/abs(cp2[1])*valores [1], color='navy') \n",
    "plt.show()"
   ]
  },
  {
   "cell_type": "code",
   "execution_count": 14,
   "metadata": {},
   "outputs": [
    {
     "data": {
      "image/png": "[encoded data removed]",
      "text/plain": [
       "<Figure size 640x480 with 1 Axes>"
      ]
     },
     "metadata": {},
     "output_type": "display_data"
    }
   ],
   "source": [
    "plt.scatter (df['ingreso'],df[ 'horas_trabajadas'])\n",
    "plt.quiver(0,0, cp1[0]/abs(cp1[0] )*valores [0], cp1[1]/abs(cp1[1])*valores [0]) \n",
    "plt.quiver(0,0, cp2[0]/abs(cp2[0])*valores [1], cp2[1]/abs(cp2[1])*valores [1]) \n",
    "plt.show()"
   ]
  },
  {
   "cell_type": "markdown",
   "metadata": {},
   "source": [
    "# PCA"
   ]
  },
  {
   "cell_type": "code",
   "execution_count": 15,
   "metadata": {},
   "outputs": [],
   "source": [
    "import pandas as pd\n",
    "import numpy as np\n",
    "import matplotlib.pyplot as plt\n",
    "from sklearn.decomposition import PCA\n",
    "from sklearn.pipeline import Pipeline\n",
    "from sklearn.preprocessing import StandardScaler\n",
    "from sklearn.linear_model import LinearRegression"
   ]
  },
  {
   "cell_type": "code",
   "execution_count": 16,
   "metadata": {},
   "outputs": [
    {
     "data": {
      "text/plain": [
       "array([[ 0.20787391,  0.69139674,  0.69192412],\n",
       "       [ 0.97814838, -0.14965532, -0.14432267],\n",
       "       [-0.0037659 , -0.70680537,  0.70739804]])"
      ]
     },
     "execution_count": 16,
     "metadata": {},
     "output_type": "execute_result"
    }
   ],
   "source": [
    "datos = pd. read_csv('advertising.csv')\n",
    "datos. head()\n",
    "\n",
    "modelo = Pipeline([\n",
    "    ('scaler', StandardScaler()), \n",
    "    ('pca', PCA()), #NUMERO DE COMPONETES\n",
    "    ('regresion', LinearRegression())\n",
    "    ])\n",
    "\n",
    "X = datos [['TV', 'Radio', 'Newspaper']]\n",
    "y = datos['Sales']\n",
    "modelo. fit(X, y)\n",
    "pca = modelo.named_steps['pca']\n",
    "pca.components_"
   ]
  },
  {
   "cell_type": "code",
   "execution_count": 17,
   "metadata": {},
   "outputs": [],
   "source": [
    "explained_variance = pd.DataFrame(pca.explained_variance_ratio_)"
   ]
  },
  {
   "cell_type": "code",
   "execution_count": 18,
   "metadata": {},
   "outputs": [
    {
     "data": {
      "text/html": [
       "<div>\n",
       "<style scoped>\n",
       "    .dataframe tbody tr th:only-of-type {\n",
       "        vertical-align: middle;\n",
       "    }\n",
       "\n",
       "    .dataframe tbody tr th {\n",
       "        vertical-align: top;\n",
       "    }\n",
       "\n",
       "    .dataframe thead th {\n",
       "        text-align: right;\n",
       "    }\n",
       "</style>\n",
       "<table border=\"1\" class=\"dataframe\">\n",
       "  <thead>\n",
       "    <tr style=\"text-align: right;\">\n",
       "      <th></th>\n",
       "      <th>0</th>\n",
       "    </tr>\n",
       "  </thead>\n",
       "  <tbody>\n",
       "    <tr>\n",
       "      <th>0</th>\n",
       "      <td>0.456951</td>\n",
       "    </tr>\n",
       "    <tr>\n",
       "      <th>1</th>\n",
       "      <td>0.327752</td>\n",
       "    </tr>\n",
       "    <tr>\n",
       "      <th>2</th>\n",
       "      <td>0.215297</td>\n",
       "    </tr>\n",
       "  </tbody>\n",
       "</table>\n",
       "</div>"
      ],
      "text/plain": [
       "          0\n",
       "0  0.456951\n",
       "1  0.327752\n",
       "2  0.215297"
      ]
     },
     "execution_count": 18,
     "metadata": {},
     "output_type": "execute_result"
    }
   ],
   "source": [
    "explained_variance\n",
    "# el primer compoente tiene el valor mas alto, se tiene 3 componentes porque se tiene 3 variables"
   ]
  },
  {
   "cell_type": "code",
   "execution_count": 19,
   "metadata": {},
   "outputs": [],
   "source": [
    "lr=modelo.named_steps['regresion']"
   ]
  },
  {
   "cell_type": "code",
   "execution_count": 20,
   "metadata": {},
   "outputs": [
    {
     "data": {
      "text/plain": [
       "array([ 2.06992121,  4.32260897, -1.13244033])"
      ]
     },
     "execution_count": 20,
     "metadata": {},
     "output_type": "execute_result"
    }
   ],
   "source": [
    "lr.coef_"
   ]
  },
  {
   "cell_type": "code",
   "execution_count": 21,
   "metadata": {},
   "outputs": [
    {
     "data": {
      "text/plain": [
       "15.130500000000001"
      ]
     },
     "execution_count": 21,
     "metadata": {},
     "output_type": "execute_result"
    }
   ],
   "source": [
    "lr.intercept_"
   ]
  },
  {
   "cell_type": "markdown",
   "metadata": {},
   "source": [
    "## 2 COMPONENTES"
   ]
  },
  {
   "cell_type": "code",
   "execution_count": 22,
   "metadata": {},
   "outputs": [
    {
     "data": {
      "text/plain": [
       "array([[ 0.70710678,  0.70710678],\n",
       "       [ 0.70710678, -0.70710678]])"
      ]
     },
     "execution_count": 22,
     "metadata": {},
     "output_type": "execute_result"
    }
   ],
   "source": [
    "datos = pd. read_csv('advertising.csv')\n",
    "datos. head()\n",
    "\n",
    "modelo = Pipeline([\n",
    "    ('scaler', StandardScaler()), \n",
    "    ('pca', PCA(n_components=2)), #NUMERO DE COMPONETES\n",
    "    ('regresion', LinearRegression())\n",
    "    ])\n",
    "\n",
    "X = datos [['TV', 'Radio']]\n",
    "y = datos['Sales']\n",
    "modelo. fit(X, y)\n",
    "pca = modelo.named_steps['pca']\n",
    "pca.components_"
   ]
  },
  {
   "cell_type": "code",
   "execution_count": 23,
   "metadata": {},
   "outputs": [],
   "source": [
    "explained_variance = pd.DataFrame(pca.explained_variance_ratio_)"
   ]
  },
  {
   "cell_type": "code",
   "execution_count": 24,
   "metadata": {},
   "outputs": [
    {
     "data": {
      "text/plain": [
       "array([4.41955176, 2.17488735])"
      ]
     },
     "execution_count": 24,
     "metadata": {},
     "output_type": "execute_result"
    }
   ],
   "source": [
    "lr = modelo.named_steps ['regresion' ]\n",
    "lr.coef_\n"
   ]
  },
  {
   "cell_type": "code",
   "execution_count": 25,
   "metadata": {},
   "outputs": [
    {
     "data": {
      "text/plain": [
       "15.130500000000001"
      ]
     },
     "execution_count": 25,
     "metadata": {},
     "output_type": "execute_result"
    }
   ],
   "source": [
    "lr.intercept_"
   ]
  },
  {
   "cell_type": "markdown",
   "metadata": {},
   "source": [
    "Mi modelo  es:\n",
    "$$\n",
    "Y = 15.13 + 4.41 tv +  2.17 {radio}+ \\epsilon\n",
    "$$"
   ]
  },
  {
   "cell_type": "code",
   "execution_count": 43,
   "metadata": {},
   "outputs": [
    {
     "data": {
      "text/plain": [
       "[<matplotlib.lines.Line2D at 0x147539b70>]"
      ]
     },
     "execution_count": 43,
     "metadata": {},
     "output_type": "execute_result"
    },
    {
     "data": {
      "image/png": "[encoded data removed]",
      "text/plain": [
       "<Figure size 640x480 with 1 Axes>"
      ]
     },
     "metadata": {},
     "output_type": "display_data"
    }
   ],
   "source": [
    "sales_pred = modelo.predict(X)\n",
    "plt.scatter (datos['Sales'], sales_pred,color='indigo', alpha=0.3)\n",
    "plt.plot([sales_pred.min(), sales_pred.max()], [sales_pred.min(), sales_pred.max()],'--', color='red', lw=3.3, alpha=0.7)"
   ]
  },
  {
   "cell_type": "code",
   "execution_count": 27,
   "metadata": {},
   "outputs": [],
   "source": [
    "from sklearn.metrics import r2_score"
   ]
  },
  {
   "cell_type": "code",
   "execution_count": 28,
   "metadata": {},
   "outputs": [
    {
     "data": {
      "text/plain": [
       "0.9025896186081139"
      ]
     },
     "execution_count": 28,
     "metadata": {},
     "output_type": "execute_result"
    }
   ],
   "source": [
    "r2= r2_score(datos['Sales'], sales_pred)\n",
    "r2"
   ]
  }
 ],
 "metadata": {
  "kernelspec": {
   "display_name": "Diplomado",
   "language": "python",
   "name": "python3"
  },
  "language_info": {
   "codemirror_mode": {
    "name": "ipython",
    "version": 3
   },
   "file_extension": ".py",
   "mimetype": "text/x-python",
   "name": "python",
   "nbconvert_exporter": "python",
   "pygments_lexer": "ipython3",
   "version": "3.10.14"
  }
 },
 "nbformat": 4,
 "nbformat_minor": 2
}
